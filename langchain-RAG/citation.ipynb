{
 "cells": [
  {
   "cell_type": "code",
   "execution_count": 5,
   "metadata": {},
   "outputs": [
    {
     "name": "stdout",
     "output_type": "stream",
     "text": [
      "================================\u001b[1m System Message \u001b[0m================================\n",
      "\n",
      "You're a helpful AI assistant. Given a user question and some Wikipedia article snippets, answer the user question. If none of the articles answer the question, just say you don't know.\n",
      "\n",
      "Here are the Wikipedia articles:\u001b[33;1m\u001b[1;3m{context}\u001b[0m\n",
      "\n",
      "================================\u001b[1m Human Message \u001b[0m=================================\n",
      "\n",
      "\u001b[33;1m\u001b[1;3m{question}\u001b[0m\n"
     ]
    }
   ],
   "source": [
    "import os\n",
    "\n",
    "import dotenv\n",
    "from langchain_openai import AzureChatOpenAI\n",
    "from langchain_community.retrievers import WikipediaRetriever\n",
    "from langchain_core.prompts import ChatPromptTemplate\n",
    "\n",
    "dotenv.load_dotenv()\n",
    "DEPLOYMENT_NAME = os.getenv(\"DEPLOYMENT_NAME\")\n",
    "\n",
    "llm = AzureChatOpenAI(\n",
    "    model=\"gpt-4\",\n",
    "    temperature=0.3,\n",
    "    azure_deployment=DEPLOYMENT_NAME,\n",
    ")\n",
    "\n",
    "\n",
    "wiki = WikipediaRetriever(top_k_results=6, doc_content_chars_max=2000)\n",
    "prompt = ChatPromptTemplate.from_messages(\n",
    "    [\n",
    "        (\n",
    "            \"system\",\n",
    "            \"You're a helpful AI assistant. Given a user question and some Wikipedia article snippets, answer the user question. If none of the articles answer the question, just say you don't know.\\n\\nHere are the Wikipedia articles:{context}\",\n",
    "        ),\n",
    "        (\"human\", \"{question}\"),\n",
    "    ]\n",
    ")\n",
    "prompt.pretty_print()"
   ]
  },
  {
   "cell_type": "code",
   "execution_count": 6,
   "metadata": {},
   "outputs": [],
   "source": [
    "from operator import itemgetter\n",
    "from typing import List\n",
    "\n",
    "from langchain_core.documents import Document\n",
    "from langchain_core.output_parsers import StrOutputParser\n",
    "from langchain_core.runnables import (\n",
    "    RunnableLambda,\n",
    "    RunnableParallel,\n",
    "    RunnablePassthrough,\n",
    ")\n",
    "\n",
    "\n",
    "def format_docs(docs: List[Document]) -> str:\n",
    "    \"\"\"Convert Documents to a single string.:\"\"\"\n",
    "    formatted = [\n",
    "        f\"Article Title: {doc.metadata['title']}\\nArticle Snippet: {doc.page_content}\"\n",
    "        for doc in docs\n",
    "    ]\n",
    "    return \"\\n\\n\" + \"\\n\\n\".join(formatted)\n",
    "\n",
    "\n",
    "format = itemgetter(\"docs\") | RunnableLambda(format_docs)\n",
    "# subchain for generating an answer once we've done retrieval\n",
    "answer = prompt | llm | StrOutputParser()\n",
    "# complete chain that calls wiki -> formats docs to string -> runs answer subchain -> returns just the answer and retrieved docs.\n",
    "chain = (\n",
    "    RunnableParallel(question=RunnablePassthrough(), docs=wiki)\n",
    "    .assign(context=format)\n",
    "    .assign(answer=answer)\n",
    "    .pick([\"answer\", \"docs\"])\n",
    ")"
   ]
  },
  {
   "cell_type": "code",
   "execution_count": 8,
   "metadata": {},
   "outputs": [
    {
     "data": {
      "text/plain": [
       "'Cheetahs are capable of running at speeds of 93 to 104 km/h (58 to 65 mph), making them the fastest land animal.'"
      ]
     },
     "execution_count": 8,
     "metadata": {},
     "output_type": "execute_result"
    }
   ],
   "source": [
    "chain.invoke(\"How fast are cheetahs?\")[\"answer\"]"
   ]
  },
  {
   "cell_type": "code",
   "execution_count": 15,
   "metadata": {},
   "outputs": [
    {
     "name": "stdout",
     "output_type": "stream",
     "text": [
      "0.16662\n",
      "2753\n",
      "2729\n",
      "24\n"
     ]
    }
   ],
   "source": [
    "from langchain.callbacks import get_openai_callback\n",
    "\n",
    "with get_openai_callback() as cb:\n",
    "    chain.invoke(\"Which club is the champion of 2024 UEFA Champion League\")\n",
    "    print(cb.total_cost)\n",
    "    print(cb.total_tokens)\n",
    "    print(cb.prompt_tokens)\n",
    "    print(cb.completion_tokens)"
   ]
  },
  {
   "cell_type": "code",
   "execution_count": 16,
   "metadata": {},
   "outputs": [],
   "source": [
    "from langchain_core.pydantic_v1 import BaseModel, Field\n",
    "\n",
    "\n",
    "class cited_answer(BaseModel):\n",
    "    \"\"\"Answer the user question based only on the given sources, and cite the sources used.\"\"\"\n",
    "\n",
    "    answer: str = Field(\n",
    "        ...,\n",
    "        description=\"The answer to the user question, which is based only on the given sources.\",\n",
    "    )\n",
    "    citations: List[int] = Field(\n",
    "        ...,\n",
    "        description=\"The integer IDs of the SPECIFIC sources which justify the answer.\",\n",
    "    )"
   ]
  },
  {
   "cell_type": "code",
   "execution_count": 20,
   "metadata": {},
   "outputs": [
    {
     "data": {
      "text/plain": [
       "AIMessage(content='', additional_kwargs={'tool_calls': [{'id': 'call_5anG6K4PwyBDh4eQXVFDN0F4', 'function': {'arguments': '{\\n  \"answer\": \"Brian is 5\\'11\\\\\"\",\\n  \"citations\": [1, 3]\\n}', 'name': 'cited_answer'}, 'type': 'function'}]}, response_metadata={'token_usage': {'completion_tokens': 25, 'prompt_tokens': 147, 'total_tokens': 172}, 'model_name': 'gpt-4-32k', 'system_fingerprint': None, 'prompt_filter_results': [{'prompt_index': 0, 'content_filter_results': {'hate': {'filtered': False, 'severity': 'safe'}, 'self_harm': {'filtered': False, 'severity': 'safe'}, 'sexual': {'filtered': False, 'severity': 'safe'}, 'violence': {'filtered': False, 'severity': 'safe'}}}], 'finish_reason': 'stop', 'logprobs': None, 'content_filter_results': {}}, id='run-6feb96cb-2207-4ec6-8524-8d67086cfccb-0', tool_calls=[{'name': 'cited_answer', 'args': {'answer': 'Brian is 5\\'11\"', 'citations': [1, 3]}, 'id': 'call_5anG6K4PwyBDh4eQXVFDN0F4'}], usage_metadata={'input_tokens': 147, 'output_tokens': 25, 'total_tokens': 172})"
      ]
     },
     "execution_count": 20,
     "metadata": {},
     "output_type": "execute_result"
    }
   ],
   "source": [
    "llm_with_tool = llm.bind_tools(\n",
    "    [cited_answer],\n",
    "    tool_choice=\"cited_answer\",\n",
    ")\n",
    "example_q = \"\"\"What Brian's height?\n",
    "\n",
    "Source: 1\n",
    "Information: Suzy is 6'2\"\n",
    "\n",
    "Source: 2\n",
    "Information: Jeremiah is blonde\n",
    "\n",
    "Source: 3\n",
    "Information: Brian is 3 inches shorted than Suzy\"\"\"\n",
    "llm_with_tool.invoke(example_q)"
   ]
  },
  {
   "cell_type": "code",
   "execution_count": 21,
   "metadata": {},
   "outputs": [
    {
     "data": {
      "text/plain": [
       "{'answer': 'Brian is 5\\'11\"', 'citations': [1, 3]}"
      ]
     },
     "execution_count": 21,
     "metadata": {},
     "output_type": "execute_result"
    }
   ],
   "source": [
    "from langchain.output_parsers.openai_tools import JsonOutputKeyToolsParser\n",
    "\n",
    "output_parser = JsonOutputKeyToolsParser(key_name=\"cited_answer\", first_tool_only=True)\n",
    "(llm_with_tool | output_parser).invoke(example_q)"
   ]
  },
  {
   "cell_type": "code",
   "execution_count": 22,
   "metadata": {},
   "outputs": [],
   "source": [
    "def format_docs_with_id(docs: List[Document]) -> str:\n",
    "    formatted = [\n",
    "        f\"Source ID: {i}\\nArticle Title: {doc.metadata['title']}\\nArticle Snippet: {doc.page_content}\"\n",
    "        for i, doc in enumerate(docs)\n",
    "    ]\n",
    "    return \"\\n\\n\" + \"\\n\\n\".join(formatted)\n",
    "\n",
    "\n",
    "format_1 = itemgetter(\"docs\") | RunnableLambda(format_docs_with_id)\n",
    "answer_1 = prompt | llm_with_tool | output_parser\n",
    "chain_1 = (\n",
    "    RunnableParallel(question=RunnablePassthrough(), docs=wiki).assign(context=format_1)\n",
    "    # .assign(cited_answer=answer_1)\n",
    "    # .pick([\"cited_answer\", \"docs\"])\n",
    ")"
   ]
  },
  {
   "cell_type": "code",
   "execution_count": 23,
   "metadata": {},
   "outputs": [
    {
     "data": {
      "text/plain": [
       "{'cited_answer': {'answer': 'Real Madrid is the champion of the 2024 UEFA Champions League.',\n",
       "  'citations': [3]},\n",
       " 'docs': [Document(page_content=\"The 2024–25 UEFA Champions League will be the 70th season of Europe's premier club football tournament organised by UEFA, and the 33rd season since it was rebranded from the European Champion Clubs' Cup to the UEFA Champions League. This will be the first season under a new format, where in the league phase each team plays eight games against different opponents, but all 36 teams are ranked in a joint group.\\nThe final will be played on 31 May 2025 at Allianz Arena in Munich, Germany.  The winners of the 2024–25 UEFA Champions League will automatically qualify for the 2025–26 UEFA Champions League league phase, the 2025 FIFA Intercontinental Cup, the 2029 FIFA Club World Cup, and earn the right to play against the winners of the 2024–25 UEFA Europa League in the 2025 UEFA Super Cup.\\nReal Madrid are the defending champions, having won their record-extending 15th title last season.\\n\\n\\n== Association team allocation ==\\nA total of 81 teams from 53 of the 55 UEFA member associations are set to participate in the 2024–25 UEFA Champions League (the exceptions being Liechtenstein which does not organise a domestic league and Russia which is currently suspended). The association ranking based on the UEFA association coefficients is used to determine the number of participating teams for each association:\\n\\nAssociations 1–5 each have four teams.\\nAssociation 6 has three teams.\\nAssociations 7–15 each have two teams.\\nAssociations 16–55 (except Liechtenstein and Russia) each have one team.\\nThe winners of the 2023–24 UEFA Champions League and 2023–24 UEFA Europa League are each given an additional entry if they do not qualify for the 2024–25 UEFA Champions League through their domestic league.\\nThe two associations who obtain the most coefficient points in the 2023–24 season will each have one European Performance Spot into the league phase. The winners of the UEFA Champions League and Europa League cannot fill the European Performance Spots.\\n\\n\\n=== Association ranking ===\\nFor the 2024\", metadata={'title': '2024–25 UEFA Champions League', 'summary': \"The 2024–25 UEFA Champions League will be the 70th season of Europe's premier club football tournament organised by UEFA, and the 33rd season since it was rebranded from the European Champion Clubs' Cup to the UEFA Champions League. This will be the first season under a new format, where in the league phase each team plays eight games against different opponents, but all 36 teams are ranked in a joint group.\\nThe final will be played on 31 May 2025 at Allianz Arena in Munich, Germany.  The winners of the 2024–25 UEFA Champions League will automatically qualify for the 2025–26 UEFA Champions League league phase, the 2025 FIFA Intercontinental Cup, the 2029 FIFA Club World Cup, and earn the right to play against the winners of the 2024–25 UEFA Europa League in the 2025 UEFA Super Cup.\\nReal Madrid are the defending champions, having won their record-extending 15th title last season.\\n\\n\", 'source': 'https://en.wikipedia.org/wiki/2024%E2%80%9325_UEFA_Champions_League'}),\n",
       "  Document(page_content=\"The UEFA Champions League (abbreviated as UCL) is an annual club association football competition organised by the Union of European Football Associations (UEFA) and contested by top-division European clubs, deciding the competition winners through a round robin group stage to qualify for a double-legged knockout format, and a single leg final. It is the most-watched club competition in the world and the third most-watched football competition overall, behind only the UEFA European Championship and the FIFA World Cup. It is one of the most prestigious football tournaments in the world and the most prestigious club competition in European football, played by the national league champions (and, for some nations, one or more runners-up) of their national associations.\\nIntroduced in 1955 as the Coupe des Clubs Champions Européens (French for European Champion Clubs' Cup), and commonly known as the European Cup, it was initially a straight knockout tournament open only to the champions of Europe's domestic leagues, with its winner reckoned as the European club champion. The competition took on its current name in 1992, adding a round-robin group stage in 1991 and allowing multiple entrants from certain countries since the 1997–98 season. It has since been expanded further and, while most of Europe's national leagues can still only enter their champion, the strongest leagues now provide up to four teams. Clubs that finish next-in-line in their national league, having not qualified for the Champions League, are eligible for the second-tier UEFA Europa League competition, and since 2021, for the third-tier UEFA Conference League.\\nIn its present format, the Champions League begins in early July with three qualifying rounds and a play-off round, all played over two legs. The seven surviving teams enter the league stage, joining 29 teams qualified in advance. The 36 teams each play eight opponents, four home and four away. The 24 highest-ranked teams proceed to the knockout ph\", metadata={'title': 'UEFA Champions League', 'summary': \"The UEFA Champions League (abbreviated as UCL) is an annual club association football competition organised by the Union of European Football Associations (UEFA) and contested by top-division European clubs, deciding the competition winners through a round robin group stage to qualify for a double-legged knockout format, and a single leg final. It is the most-watched club competition in the world and the third most-watched football competition overall, behind only the UEFA European Championship and the FIFA World Cup. It is one of the most prestigious football tournaments in the world and the most prestigious club competition in European football, played by the national league champions (and, for some nations, one or more runners-up) of their national associations.\\nIntroduced in 1955 as the Coupe des Clubs Champions Européens (French for European Champion Clubs' Cup), and commonly known as the European Cup, it was initially a straight knockout tournament open only to the champions of Europe's domestic leagues, with its winner reckoned as the European club champion. The competition took on its current name in 1992, adding a round-robin group stage in 1991 and allowing multiple entrants from certain countries since the 1997–98 season. It has since been expanded further and, while most of Europe's national leagues can still only enter their champion, the strongest leagues now provide up to four teams. Clubs that finish next-in-line in their national league, having not qualified for the Champions League, are eligible for the second-tier UEFA Europa League competition, and since 2021, for the third-tier UEFA Conference League.\\nIn its present format, the Champions League begins in early July with three qualifying rounds and a play-off round, all played over two legs. The seven surviving teams enter the league stage, joining 29 teams qualified in advance. The 36 teams each play eight opponents, four home and four away. The 24 highest-ranked teams proceed to the knockout phase that culminates with the final match in late May or early June. The winner of the Champions League automatically qualifies for the following year's Champions League, the UEFA Super Cup, and the FIFA Club World Cup.\\nSpanish clubs have the highest number of victories (20 wins), followed by England (15 wins) and Italy (12 wins). England has the largest number of winning teams, with six clubs having won the title. The competition has been won by 23 clubs, 13 of which have won it more than once, and eight successfully defended their title. Real Madrid is the most successful club in the tournament's history, having won it 15 times, and the only club to have won it five times in a row (the first five editions) and also five of the last ten. Only one club has won all of their matches in a single tournament en route to the tournament victory: Bayern Munich in the 2019–20 season. Real Madrid are the current European champions, having beaten Borussia Dortmund 2–0 in the 2024 final for their fifteenth title.\", 'source': 'https://en.wikipedia.org/wiki/UEFA_Champions_League'}),\n",
       "  Document(page_content=\"The UEFA Champions League is a seasonal football competition established in 1955. Prior to the 1992–93 season, the tournament was named the European Cup. The UEFA Champions League is open to the league champions of all UEFA (Union of European Football Associations) member associations (except Liechtenstein, which has no league competition), as well as to the clubs finishing from second to fourth position in the strongest leagues. Originally, only the champions of their respective national league and the defending champions of the competition were allowed to participate. However, this was changed in 1997 to allow the runners-up of the stronger leagues to compete as well, and again in 1999 when third and fourth-placed teams of the said leagues also became eligible. In the Champions League era, the defending champions of the competition did not automatically qualify until the rules were changed in 2005 to allow title holders Liverpool to enter the competition.\\nTeams that have won the UEFA Champions League three consecutive times, or five times overall, receive a multiple-winner badge. Six teams have earned this privilege: Real Madrid, Ajax, Bayern Munich, AC Milan, Liverpool, and Barcelona. Until 2009, clubs that had earned that badge were allowed to keep the European Champion Clubs' Cup and a new one was commissioned; since 2009, the winning team each year has received a full-size replica of the trophy, while the original is retained by UEFA.\\nA total of 23 clubs have won the Champions League/European Cup. Real Madrid holds the record for the most victories, having won the competition 15 times, including the inaugural edition. They have also won the competition the most consecutive times, with five straight titles from 1956 to 1960. Juventus have been runners-up the most times, losing seven finals. Atlético Madrid is the only team to reach three finals without having won the trophy while Reims and Valencia have finished as runners-up twice without winning. Spain has pr\", metadata={'title': 'List of European Cup and UEFA Champions League finals', 'summary': \"The UEFA Champions League is a seasonal football competition established in 1955. Prior to the 1992–93 season, the tournament was named the European Cup. The UEFA Champions League is open to the league champions of all UEFA (Union of European Football Associations) member associations (except Liechtenstein, which has no league competition), as well as to the clubs finishing from second to fourth position in the strongest leagues. Originally, only the champions of their respective national league and the defending champions of the competition were allowed to participate. However, this was changed in 1997 to allow the runners-up of the stronger leagues to compete as well, and again in 1999 when third and fourth-placed teams of the said leagues also became eligible. In the Champions League era, the defending champions of the competition did not automatically qualify until the rules were changed in 2005 to allow title holders Liverpool to enter the competition.\\nTeams that have won the UEFA Champions League three consecutive times, or five times overall, receive a multiple-winner badge. Six teams have earned this privilege: Real Madrid, Ajax, Bayern Munich, AC Milan, Liverpool, and Barcelona. Until 2009, clubs that had earned that badge were allowed to keep the European Champion Clubs' Cup and a new one was commissioned; since 2009, the winning team each year has received a full-size replica of the trophy, while the original is retained by UEFA.\\nA total of 23 clubs have won the Champions League/European Cup. Real Madrid holds the record for the most victories, having won the competition 15 times, including the inaugural edition. They have also won the competition the most consecutive times, with five straight titles from 1956 to 1960. Juventus have been runners-up the most times, losing seven finals. Atlético Madrid is the only team to reach three finals without having won the trophy while Reims and Valencia have finished as runners-up twice without winning. Spain has provided the most champions, with twenty wins from two clubs. England have produced fifteen winners from a record six clubs and Italy have produced twelve winners from three clubs. English teams were banned from the competition for five years following the Heysel disaster in 1985. The current champions are Real Madrid, who beat Borussia Dortmund 2–0 in the 2024 final.\\nWhile the venue for the final is chosen well in advance, on four occasions clubs have reached a final scheduled to be played in their own stadium; Real Madrid won their second European Cup in the Santiago Bernabéu Stadium in 1957, while in 1965 Inter Milan also won their second title in the final at the San Siro. In 1984, the Stadio Olimpico in Rome was the venue and saw Roma defeated on penalties by Liverpool, while 2012 saw the Allianz Arena host the final between Bayern Munich and Chelsea, which the English club also won on penalties.\\n\\n\", 'source': 'https://en.wikipedia.org/wiki/List_of_European_Cup_and_UEFA_Champions_League_finals'}),\n",
       "  Document(page_content=\"The 2024 UEFA Champions League final was the final match of the 2023–24 UEFA Champions League, the 69th season of Europe's premier club football tournament organised by UEFA, and the 32nd season since it was renamed from the European Champion Clubs' Cup to the UEFA Champions League. It was held at Wembley Stadium in London, England, on 1 June 2024, between German club Borussia Dortmund and Spanish club Real Madrid. Due to the postponement and relocation of the 2020 final, the final hosts were shifted back a year, with London instead hosting the 2024 final.\\nReal Madrid won the match 2–0 for a record-extending 15th title, and their sixth in eleven seasons. As winners, they earned the right to play against the winners of the 2023–24 UEFA Europa League, Atalanta, in the 2024 UEFA Super Cup, and to compete in the inaugural edition of the FIFA Intercontinental Cup. As they had already qualified for the 2025 FIFA Club World Cup, the spot intended for the winners was redistributed via the UEFA club ranking.\\n\\n\\n== Background ==\\nFor Borussia Dortmund, this was their third UEFA Champions League final appearance, the first since the 1–2 Der Klassiker loss against Bayern Munich in 2013, which was also held at Wembley Stadium, and the first European final for manager Edin Terzić. Additionally, Dortmund played one European Cup Winners' Cup final (winning in 1966) and two UEFA Cup finals (losing in 1993 and 2002).\\nReal Madrid played in a record-extending 18th European Cup/UEFA Champions League final, and their second in three years. They previously won 14 finals (in 1956, 1957, 1958, 1959, 1960, 1966, 1998, 2000, 2002, 2014, 2016, 2017, 2018 and 2022) and lost three (1962, 1964 and 1981). Their manager Carlo Ancelotti reached a record-extending sixth UEFA Champions League final as manager, winning in 2003 and 2007 and losing in 2005 while in charge of Milan, and winning the 2014 and 2022 finals with Real Madrid. Real Madrid also played in two European Cup Winners' Cup finals (losing\", metadata={'title': '2024 UEFA Champions League final', 'summary': \"The 2024 UEFA Champions League final was the final match of the 2023–24 UEFA Champions League, the 69th season of Europe's premier club football tournament organised by UEFA, and the 32nd season since it was renamed from the European Champion Clubs' Cup to the UEFA Champions League. It was held at Wembley Stadium in London, England, on 1 June 2024, between German club Borussia Dortmund and Spanish club Real Madrid. Due to the postponement and relocation of the 2020 final, the final hosts were shifted back a year, with London instead hosting the 2024 final.\\nReal Madrid won the match 2–0 for a record-extending 15th title, and their sixth in eleven seasons. As winners, they earned the right to play against the winners of the 2023–24 UEFA Europa League, Atalanta, in the 2024 UEFA Super Cup, and to compete in the inaugural edition of the FIFA Intercontinental Cup. As they had already qualified for the 2025 FIFA Club World Cup, the spot intended for the winners was redistributed via the UEFA club ranking.\\n\\n\", 'source': 'https://en.wikipedia.org/wiki/2024_UEFA_Champions_League_final'}),\n",
       "  Document(page_content=\"The 2023–24 UEFA Champions League was the 69th season of Europe's premier club football tournament organised by UEFA, and the 32nd season since it was renamed from the European Champion Clubs' Cup to the UEFA Champions League.\\nReal Madrid defeated Borussia Dortmund 2–0 in the final, which was played at the Wembley Stadium in London, England, for a record-extending 15th European Cup title, and their sixth in eleven years. As winners, Real Madrid earned the right to play against Atalanta, the winners of the 2023–24 UEFA Europa League, in the 2024 UEFA Super Cup. They also qualified for the final of the brand-new 2024 FIFA Intercontinental Cup and the expanded 2025 FIFA Club World Cup in the United States.\\nThis was the final season with the current format of 32 teams participating in the group stage, following UEFA's announcement of a new expanded format to be introduced for the following edition.\\nManchester City were the defending champions, but were eliminated by eventual winners Real Madrid in the quarter-finals.\\n\\n\\n== Association team allocation ==\\nA total of 78 teams from 53 of the 55 UEFA member associations participated in the 2023–24 UEFA Champions League (the exceptions being Liechtenstein, which did not organise a domestic league, and Russia). The association ranking based on the UEFA association coefficients was used to determine the number of participating teams for each association:\\n\\nAssociations 1–4 each had four teams qualify.\\nAssociations 5–6 each had three teams qualify.\\nAssociations 7–15 (except Russia) each had two teams qualify.\\nAssociations 16–55 (except Liechtenstein) each had one team qualify.\\nThe winners of the 2022–23 UEFA Champions League and 2022–23 UEFA Europa League were each given an additional entry if they did not qualify for the 2023–24 UEFA Champions League through their domestic league.\\n\\n\\n=== Association ranking ===\\nFor the 2023–24 UEFA Champions League, the associations were allocated places according to their 2022 UEFA association co\", metadata={'title': '2023–24 UEFA Champions League', 'summary': \"The 2023–24 UEFA Champions League was the 69th season of Europe's premier club football tournament organised by UEFA, and the 32nd season since it was renamed from the European Champion Clubs' Cup to the UEFA Champions League.\\nReal Madrid defeated Borussia Dortmund 2–0 in the final, which was played at the Wembley Stadium in London, England, for a record-extending 15th European Cup title, and their sixth in eleven years. As winners, Real Madrid earned the right to play against Atalanta, the winners of the 2023–24 UEFA Europa League, in the 2024 UEFA Super Cup. They also qualified for the final of the brand-new 2024 FIFA Intercontinental Cup and the expanded 2025 FIFA Club World Cup in the United States.\\nThis was the final season with the current format of 32 teams participating in the group stage, following UEFA's announcement of a new expanded format to be introduced for the following edition.\\nManchester City were the defending champions, but were eliminated by eventual winners Real Madrid in the quarter-finals.\\n\\n\", 'source': 'https://en.wikipedia.org/wiki/2023%E2%80%9324_UEFA_Champions_League'}),\n",
       "  Document(page_content='This page details statistics of the European Cup and Champions League. Unless noted, these statistics concern all seasons since the inception of the European Cup in the 1955–56 season, and renamed since 1992 as the UEFA Champions League. This does not include the qualifying rounds of the UEFA Champions League, unless otherwise noted.\\n\\n\\n== General performances ==\\n\\n\\n=== By club ===\\n\\nA total of 23 clubs have won the tournament since its 1955 inception, with Real Madrid being the only team to win it fifteen times, including the first five. Only three other clubs have reached ten or more finals: Milan, Bayern Munich and Liverpool. A total of thirteen clubs have won the tournament multiple times: the four forementioned clubs, along with Benfica, Inter Milan, Ajax, Nottingham Forest, Juventus, Manchester United, Porto, Barcelona and Chelsea. A total of nineteen clubs have reached the final without ever managing to win the tournament.\\nClubs from ten countries have provided tournament winners. Spanish clubs have been the most successful, winning twenty titles. England is second with fifteen and Italy is third with twelve, while the other multiple-time winners are Germany with eight, the Netherlands with six, and Portugal with four. The only other countries to provide a tournament winner are Scotland, Romania, Yugoslavia, and France. Greece, Belgium and Sweden have all provided losing finalists.\\n\\n\\n=== By nation ===\\n\\n\\n=== Overall team records ===\\nIn this ranking 2 points are awarded for a win, 1 for a draw and 0 for a loss. As per statistical convention in football, matches decided in extra time are counted as wins and losses, while matches decided by penalty shoot-outs are counted as draws. Teams are ranked by total points, then by goal difference, then by goals scored. Only the top 25 are listed (includes qualifying rounds).\\n\\nAs of 1 June 2024\\n\\n\\n=== Number of participating clubs of the Champions League era (from 1992–present) ===\\n\\nA total of 154 clubs from 34 national associ', metadata={'title': 'European Cup and UEFA Champions League records and statistics', 'summary': 'This page details statistics of the European Cup and Champions League. Unless noted, these statistics concern all seasons since the inception of the European Cup in the 1955–56 season, and renamed since 1992 as the UEFA Champions League. This does not include the qualifying rounds of the UEFA Champions League, unless otherwise noted.', 'source': 'https://en.wikipedia.org/wiki/European_Cup_and_UEFA_Champions_League_records_and_statistics'})]}"
      ]
     },
     "execution_count": 23,
     "metadata": {},
     "output_type": "execute_result"
    }
   ],
   "source": [
    "chain_1.invoke(\"Which club is the champion of 2024 UEFA Champion League?\")"
   ]
  },
  {
   "cell_type": "code",
   "execution_count": null,
   "metadata": {},
   "outputs": [],
   "source": []
  },
  {
   "cell_type": "code",
   "execution_count": null,
   "metadata": {},
   "outputs": [],
   "source": []
  }
 ],
 "metadata": {
  "kernelspec": {
   "display_name": "langchain-RAG",
   "language": "python",
   "name": "python3"
  },
  "language_info": {
   "codemirror_mode": {
    "name": "ipython",
    "version": 3
   },
   "file_extension": ".py",
   "mimetype": "text/x-python",
   "name": "python",
   "nbconvert_exporter": "python",
   "pygments_lexer": "ipython3",
   "version": "3.11.9"
  }
 },
 "nbformat": 4,
 "nbformat_minor": 2
}
